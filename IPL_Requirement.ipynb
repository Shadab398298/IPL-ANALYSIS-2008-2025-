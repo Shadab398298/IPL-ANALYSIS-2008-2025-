{
 "cells": [
  {
   "cell_type": "markdown",
   "id": "eff08f61",
   "metadata": {},
   "source": [
    "# **IPL ANALYSIS (2008-2025)**"
   ]
  },
  {
   "cell_type": "markdown",
   "id": "b2c544cd",
   "metadata": {},
   "source": [
    "## Business Requirements\n",
    "\n",
    "The objective of this project is to create an interactive **Power BI** dashboard that provides insight into the performance of teams across **IPL seasons** from 2008 to 2025.\n",
    "\n",
    "- **Primary KPI's:**\n",
    "    - The objective of this project is to create an interactive **Power BI** dashboard that provides insight into the performance of teams across **IPL seasons** from 2008 to 2025. A key business requirement is to enable users to **select any season** using **slicer/filter** and instantly view:\n",
    "        - The **Winner Team** of the selected season along with its **dynamically displayed team logo** \n",
    "        - The **Runner-Up Team** of the selected season along with its **dynamically displayed team logo** \n",
    "\n",
    "- **Secondary KPI's:**\n",
    "    - A key business requirement is to enable users to **select any season** using **slicer/filter** and instantly view:\n",
    "        - Total Sixes\n",
    "        - Total Fours\n",
    "        - Total Matches Played\n",
    "        - Total Team Participated\n",
    "        - Total Centuries\n",
    "        - Total Half-Centuries\n",
    "        - Total venues Used\n",
    "- **Season Stat's:**\n",
    "    - A key business requirement is to enable users to **select any season** using **slicer/filter** and instantly view:\n",
    "        - **Orange Cap Stats:**\n",
    "            - Orange Cap Holder Name\n",
    "            - Total Runs Scrored in the season\n",
    "            - Team Name the player represented\n",
    "            - Player Image (Dynamically rendered)   \n",
    "        - **Purple Cap Stats:**\n",
    "            - Purple Cap Holder Name\n",
    "            - Total Wickets in the season\n",
    "            - Team Name the player represented\n",
    "            - Player Image (Dynamically rendered) \n",
    "        - **Total Four in Season:**\n",
    "            - player Name\n",
    "            - Total Fours in the season\n",
    "            - Team Name the player represented\n",
    "            - Player Image (Dynamically rendered)\n",
    "        - **Total Sixes in Season:**\n",
    "            - player Name\n",
    "            - Total Sixes in the season\n",
    "            - Team Name the player represented\n",
    "            - Player Image (Dynamically rendered)  \n",
    "\n",
    "- **Points table:**\n",
    "    - when s specific season is selected via a slicer/filter, display a **Point Table** that includes the foloowing dynamic fields for each team:\n",
    "        - Logo: Dynamic team logo\n",
    "        - Team Name: official name of the IPL team\n",
    "        - Matches Palyed: Total matches played by the team in the selected season\n",
    "        - Won: Number of matches won\n",
    "        - Lost: Number of matches lost\n",
    "        - No Result: Matches with no result (e.g; rain-affected)\n",
    "        - Tie: Matches that ended in a tie\n",
    "        - Total Point: Calculated using standard IPL point rules: (`Tota point = (Wins*2) + (Tie*1) + (No Result*1)`)"
   ]
  }
 ],
 "metadata": {
  "language_info": {
   "name": "python"
  }
 },
 "nbformat": 4,
 "nbformat_minor": 5
}
